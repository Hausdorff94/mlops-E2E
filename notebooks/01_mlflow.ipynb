{
 "cells": [
  {
   "cell_type": "code",
   "execution_count": 6,
   "metadata": {},
   "outputs": [],
   "source": [
    "import mlflow\n",
    "import mlflow.tracking as tracking\n",
    "from sklearn.linear_model import LogisticRegression\n",
    "from sklearn.metrics import accuracy_score\n",
    "from sklearn.datasets import load_iris\n",
    "import logging\n",
    "import os"
   ]
  },
  {
   "cell_type": "code",
   "execution_count": 2,
   "metadata": {},
   "outputs": [],
   "source": [
    "logging.basicConfig(level=logging.ERROR)\n",
    "logger = logging.getLogger(__name__)"
   ]
  },
  {
   "cell_type": "markdown",
   "metadata": {},
   "source": [
    "### Get Tracking URI"
   ]
  },
  {
   "cell_type": "code",
   "execution_count": 3,
   "metadata": {},
   "outputs": [
    {
     "name": "stdout",
     "output_type": "stream",
     "text": [
      "file:///workspaces/mlops-E2E/notebooks/mlruns\n"
     ]
    }
   ],
   "source": [
    "tracking_uri = tracking.get_tracking_uri()\n",
    "print(tracking_uri)\n",
    "\n"
   ]
  },
  {
   "cell_type": "markdown",
   "metadata": {},
   "source": [
    "### Start Tracking parameters, metrics, and artifacts"
   ]
  },
  {
   "cell_type": "code",
   "execution_count": 4,
   "metadata": {},
   "outputs": [
    {
     "name": "stderr",
     "output_type": "stream",
     "text": [
      "2024/01/29 02:57:02 INFO mlflow.tracking.fluent: Experiment with name 'iris_experiment' does not exist. Creating a new experiment.\n"
     ]
    },
    {
     "name": "stdout",
     "output_type": "stream",
     "text": [
      "Model saved in run: 578ae71d9b774752b525495e0727b8d0\n"
     ]
    }
   ],
   "source": [
    "mlflow.set_experiment(\"iris_experiment\")\n",
    "\n",
    "with mlflow.start_run(run_name=\"iris_run\") as run:\n",
    "    # Load dataset\n",
    "    X, y = load_iris(return_X_y=True)\n",
    "    \n",
    "    # Train model\n",
    "    params = {\"C\": 0.5, \"random_state\": 9936}\n",
    "    model = LogisticRegression(**params)\n",
    "    model.fit(X, y)\n",
    "    y_pred = model.predict(X)\n",
    "    acc = accuracy_score(y, y_pred)\n",
    "\n",
    "    # Log params and metrics\n",
    "    mlflow.log_params(params)\n",
    "    mlflow.log_metric(\"accuracy\", acc)\n",
    "    mlflow.sklearn.log_model(model, \"trained_model\")\n",
    "    print(f\"Model saved in run: {mlflow.active_run().info.run_uuid}\")\n",
    "\n"
   ]
  },
  {
   "cell_type": "code",
   "execution_count": 5,
   "metadata": {},
   "outputs": [],
   "source": [
    "mlflow.end_run()"
   ]
  },
  {
   "cell_type": "markdown",
   "metadata": {},
   "source": [
    "### Custom Tracking URI"
   ]
  },
  {
   "cell_type": "code",
   "execution_count": 11,
   "metadata": {},
   "outputs": [
    {
     "name": "stdout",
     "output_type": "stream",
     "text": [
      "/workspaces/mlops-E2E/tracking/experiments\n"
     ]
    }
   ],
   "source": [
    "custom_tracking_uri = f\"{os.path.abspath(os.path.join(os.getcwd(), os.pardir))}/tracking/experiments\"\n",
    "mlflow.set_tracking_uri(custom_tracking_uri)\n",
    "print(tracking.get_tracking_uri())\n"
   ]
  },
  {
   "cell_type": "code",
   "execution_count": 12,
   "metadata": {},
   "outputs": [
    {
     "name": "stderr",
     "output_type": "stream",
     "text": [
      "2024/01/29 03:03:45 INFO mlflow.tracking.fluent: Experiment with name 'iris_exp_cust_uri' does not exist. Creating a new experiment.\n"
     ]
    },
    {
     "name": "stdout",
     "output_type": "stream",
     "text": [
      "Model saved in run: 903a07cee4e04cca9b746d46e5ddf7dc\n"
     ]
    },
    {
     "name": "stderr",
     "output_type": "stream",
     "text": [
      "/home/codespace/.cache/pypoetry/virtualenvs/mlops-e2e-Sd3dcFiy-py3.10/lib/python3.10/site-packages/_distutils_hack/__init__.py:18: UserWarning: Distutils was imported before Setuptools, but importing Setuptools also replaces the `distutils` module in `sys.modules`. This may lead to undesirable behaviors or errors. To avoid these issues, avoid using distutils directly, ensure that setuptools is installed in the traditional way (e.g. not an editable install), and/or make sure that setuptools is always imported before distutils.\n",
      "  warnings.warn(\n",
      "/home/codespace/.cache/pypoetry/virtualenvs/mlops-e2e-Sd3dcFiy-py3.10/lib/python3.10/site-packages/_distutils_hack/__init__.py:33: UserWarning: Setuptools is replacing distutils.\n",
      "  warnings.warn(\"Setuptools is replacing distutils.\")\n"
     ]
    }
   ],
   "source": [
    "mlflow.set_experiment(\"iris_exp_cust_uri\")\n",
    "\n",
    "with mlflow.start_run(run_name=\"iris_run_cust_uri\") as run:\n",
    "    # Load dataset\n",
    "    X, y = load_iris(return_X_y=True)\n",
    "    \n",
    "    # Train model\n",
    "    params = {\"C\": 0.5, \"random_state\": 9936}\n",
    "    model = LogisticRegression(**params)\n",
    "    model.fit(X, y)\n",
    "    y_pred = model.predict(X)\n",
    "    acc = accuracy_score(y, y_pred)\n",
    "\n",
    "    # Log params and metrics\n",
    "    mlflow.log_params(params)\n",
    "    mlflow.log_metric(\"accuracy\", acc)\n",
    "    mlflow.sklearn.log_model(model, \"trained_model\")\n",
    "    print(f\"Model saved in run: {mlflow.active_run().info.run_uuid}\")\n",
    "\n"
   ]
  },
  {
   "cell_type": "markdown",
   "metadata": {},
   "source": [
    "#### Open MLFlow UI with custom tracking URI\n",
    "\n",
    "```bash\n",
    "mlflow ui --backend-store-uri file:////workspaces/mlops-E2E/tracking/experiments\n",
    "```"
   ]
  },
  {
   "cell_type": "code",
   "execution_count": null,
   "metadata": {},
   "outputs": [],
   "source": []
  }
 ],
 "metadata": {
  "kernelspec": {
   "display_name": "mlops-e2e-Sd3dcFiy-py3.10",
   "language": "python",
   "name": "python3"
  },
  "language_info": {
   "codemirror_mode": {
    "name": "ipython",
    "version": 3
   },
   "file_extension": ".py",
   "mimetype": "text/x-python",
   "name": "python",
   "nbconvert_exporter": "python",
   "pygments_lexer": "ipython3",
   "version": "3.10.13"
  }
 },
 "nbformat": 4,
 "nbformat_minor": 2
}
